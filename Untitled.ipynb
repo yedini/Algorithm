{
 "cells": [
  {
   "cell_type": "code",
   "execution_count": 2,
   "id": "f16fa11b",
   "metadata": {},
   "outputs": [],
   "source": [
    "a = \"yyy jjj hhh\"\n",
    "y, j, h = a.split(\" \")"
   ]
  },
  {
   "cell_type": "code",
   "execution_count": 4,
   "id": "754dc422",
   "metadata": {},
   "outputs": [
    {
     "data": {
      "text/plain": [
       "'jjj'"
      ]
     },
     "execution_count": 4,
     "metadata": {},
     "output_type": "execute_result"
    }
   ],
   "source": [
    "j"
   ]
  },
  {
   "cell_type": "code",
   "execution_count": 20,
   "id": "28397fce",
   "metadata": {},
   "outputs": [],
   "source": [
    "def solution(record):\n",
    "    result = []\n",
    "    ids = dict()\n",
    "    for codes in record:\n",
    "        c = codes.split(\" \")\n",
    "        if c[0] == 'Enter':\n",
    "            if c[1] not in ids.keys():\n",
    "                ids[c[1]] = c[2]\n",
    "            else:\n",
    "                result = [[l[0], l[1].replace(ids[c[1]], c[2])] if l[0] == c[1] else l for l in result]\n",
    "                ids[c[1]] = c[2]\n",
    "            result.append([c[1], c[2]+'님이 들어왔습니다.'])\n",
    "        elif c[0] == 'Leave':\n",
    "            result.append([c[1], ids[c[1]]+'님이 나갔습니다.'])\n",
    "        else:\n",
    "            result = [[l[0], l[1].replace(ids[c[1]], c[2])] if l[0] == c[1] else l for l in result]\n",
    "            ids[c[1]] = c[2]\n",
    "    \n",
    "    answer = [l[1] for l in result]\n",
    "    return answer"
   ]
  },
  {
   "cell_type": "code",
   "execution_count": 14,
   "id": "84be1fcf",
   "metadata": {},
   "outputs": [],
   "source": [
    "r = [['uid1234', 'Muzi님이 들어왔습니다.'], ['uid4567', 'Prodo님이 들어왔습니다.'], ['uid1234', 'Muzi님이 나갔습니다.'], ['uid1234', 'Prodo님이 들어왔습니다.']]\n",
    "c = ['Change', 'uid4567', 'Ryan']"
   ]
  },
  {
   "cell_type": "code",
   "execution_count": 19,
   "id": "5324b4cb",
   "metadata": {},
   "outputs": [
    {
     "data": {
      "text/plain": [
       "'uid4567'"
      ]
     },
     "execution_count": 19,
     "metadata": {},
     "output_type": "execute_result"
    }
   ],
   "source": [
    "c[1]"
   ]
  },
  {
   "cell_type": "code",
   "execution_count": 16,
   "id": "afad15b8",
   "metadata": {},
   "outputs": [
    {
     "ename": "IndexError",
     "evalue": "list index out of range",
     "output_type": "error",
     "traceback": [
      "\u001b[1;31m---------------------------------------------------------------------------\u001b[0m",
      "\u001b[1;31mIndexError\u001b[0m                                Traceback (most recent call last)",
      "\u001b[1;32m<ipython-input-16-4e509e9f363c>\u001b[0m in \u001b[0;36m<module>\u001b[1;34m\u001b[0m\n\u001b[1;32m----> 1\u001b[1;33m \u001b[1;33m[\u001b[0m\u001b[1;33m[\u001b[0m\u001b[0ml\u001b[0m\u001b[1;33m[\u001b[0m\u001b[1;36m1\u001b[0m\u001b[1;33m]\u001b[0m\u001b[1;33m,\u001b[0m \u001b[0ml\u001b[0m\u001b[1;33m[\u001b[0m\u001b[1;36m2\u001b[0m\u001b[1;33m]\u001b[0m\u001b[1;33m.\u001b[0m\u001b[0mreplace\u001b[0m\u001b[1;33m(\u001b[0m\u001b[0mids\u001b[0m\u001b[1;33m[\u001b[0m\u001b[0mc\u001b[0m\u001b[1;33m[\u001b[0m\u001b[1;36m1\u001b[0m\u001b[1;33m]\u001b[0m\u001b[1;33m]\u001b[0m\u001b[1;33m,\u001b[0m \u001b[0mc\u001b[0m\u001b[1;33m[\u001b[0m\u001b[1;36m2\u001b[0m\u001b[1;33m]\u001b[0m\u001b[1;33m)\u001b[0m\u001b[1;33m]\u001b[0m \u001b[1;32mif\u001b[0m \u001b[0ml\u001b[0m\u001b[1;33m[\u001b[0m\u001b[1;36m0\u001b[0m\u001b[1;33m]\u001b[0m \u001b[1;33m==\u001b[0m \u001b[0mc\u001b[0m\u001b[1;33m[\u001b[0m\u001b[1;36m1\u001b[0m\u001b[1;33m]\u001b[0m \u001b[1;32melse\u001b[0m \u001b[0ml\u001b[0m \u001b[1;32mfor\u001b[0m \u001b[0ml\u001b[0m \u001b[1;32min\u001b[0m \u001b[0mr\u001b[0m\u001b[1;33m]\u001b[0m\u001b[1;33m\u001b[0m\u001b[1;33m\u001b[0m\u001b[0m\n\u001b[0m",
      "\u001b[1;32m<ipython-input-16-4e509e9f363c>\u001b[0m in \u001b[0;36m<listcomp>\u001b[1;34m(.0)\u001b[0m\n\u001b[1;32m----> 1\u001b[1;33m \u001b[1;33m[\u001b[0m\u001b[1;33m[\u001b[0m\u001b[0ml\u001b[0m\u001b[1;33m[\u001b[0m\u001b[1;36m1\u001b[0m\u001b[1;33m]\u001b[0m\u001b[1;33m,\u001b[0m \u001b[0ml\u001b[0m\u001b[1;33m[\u001b[0m\u001b[1;36m2\u001b[0m\u001b[1;33m]\u001b[0m\u001b[1;33m.\u001b[0m\u001b[0mreplace\u001b[0m\u001b[1;33m(\u001b[0m\u001b[0mids\u001b[0m\u001b[1;33m[\u001b[0m\u001b[0mc\u001b[0m\u001b[1;33m[\u001b[0m\u001b[1;36m1\u001b[0m\u001b[1;33m]\u001b[0m\u001b[1;33m]\u001b[0m\u001b[1;33m,\u001b[0m \u001b[0mc\u001b[0m\u001b[1;33m[\u001b[0m\u001b[1;36m2\u001b[0m\u001b[1;33m]\u001b[0m\u001b[1;33m)\u001b[0m\u001b[1;33m]\u001b[0m \u001b[1;32mif\u001b[0m \u001b[0ml\u001b[0m\u001b[1;33m[\u001b[0m\u001b[1;36m0\u001b[0m\u001b[1;33m]\u001b[0m \u001b[1;33m==\u001b[0m \u001b[0mc\u001b[0m\u001b[1;33m[\u001b[0m\u001b[1;36m1\u001b[0m\u001b[1;33m]\u001b[0m \u001b[1;32melse\u001b[0m \u001b[0ml\u001b[0m \u001b[1;32mfor\u001b[0m \u001b[0ml\u001b[0m \u001b[1;32min\u001b[0m \u001b[0mr\u001b[0m\u001b[1;33m]\u001b[0m\u001b[1;33m\u001b[0m\u001b[1;33m\u001b[0m\u001b[0m\n\u001b[0m",
      "\u001b[1;31mIndexError\u001b[0m: list index out of range"
     ]
    }
   ],
   "source": [
    "[[l[1], l[2].replace(ids[c[1]], c[2])] if l[0] == c[1] else l for l in r]"
   ]
  },
  {
   "cell_type": "code",
   "execution_count": 21,
   "id": "7b974357",
   "metadata": {
    "scrolled": true
   },
   "outputs": [
    {
     "name": "stdout",
     "output_type": "stream",
     "text": [
      "['Enter', 'uid1234', 'Muzi']\n",
      "[['uid1234', 'Muzi님이 들어왔습니다.']]\n",
      "['Enter', 'uid4567', 'Prodo']\n",
      "[['uid1234', 'Muzi님이 들어왔습니다.'], ['uid4567', 'Prodo님이 들어왔습니다.']]\n",
      "['Leave', 'uid1234']\n",
      "[['uid1234', 'Muzi님이 들어왔습니다.'], ['uid4567', 'Prodo님이 들어왔습니다.'], ['uid1234', 'Muzi님이 나갔습니다.']]\n",
      "['Enter', 'uid1234', 'Prodo']\n",
      "[['uid1234', 'Muzi님이 들어왔습니다.'], ['uid4567', 'Prodo님이 들어왔습니다.'], ['uid1234', 'Muzi님이 나갔습니다.'], ['uid1234', 'Prodo님이 들어왔습니다.']]\n",
      "['Change', 'uid4567', 'Ryan']\n",
      "[['uid1234', 'Muzi님이 들어왔습니다.'], ['uid4567', 'Ryan님이 들어왔습니다.'], ['uid1234', 'Muzi님이 나갔습니다.'], ['uid1234', 'Prodo님이 들어왔습니다.']]\n"
     ]
    },
    {
     "data": {
      "text/plain": [
       "['Muzi님이 들어왔습니다.', 'Ryan님이 들어왔습니다.', 'Muzi님이 나갔습니다.', 'Prodo님이 들어왔습니다.']"
      ]
     },
     "execution_count": 21,
     "metadata": {},
     "output_type": "execute_result"
    }
   ],
   "source": [
    "solution([\"Enter uid1234 Muzi\", \"Enter uid4567 Prodo\",\"Leave uid1234\",\"Enter uid1234 Prodo\",\"Change uid4567 Ryan\"])"
   ]
  },
  {
   "cell_type": "code",
   "execution_count": 7,
   "id": "f47c7f9b",
   "metadata": {},
   "outputs": [
    {
     "data": {
      "text/plain": [
       "['Enter', 'uid1234', 'Muzi']"
      ]
     },
     "execution_count": 7,
     "metadata": {},
     "output_type": "execute_result"
    }
   ],
   "source": [
    "a, b, c = \"Enter uid1234 Muzi\".split(\" \")"
   ]
  }
 ],
 "metadata": {
  "kernelspec": {
   "display_name": "Python 3",
   "language": "python",
   "name": "python3"
  },
  "language_info": {
   "codemirror_mode": {
    "name": "ipython",
    "version": 3
   },
   "file_extension": ".py",
   "mimetype": "text/x-python",
   "name": "python",
   "nbconvert_exporter": "python",
   "pygments_lexer": "ipython3",
   "version": "3.8.8"
  }
 },
 "nbformat": 4,
 "nbformat_minor": 5
}
